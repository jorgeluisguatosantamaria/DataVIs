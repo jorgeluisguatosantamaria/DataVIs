{
  "nbformat": 4,
  "nbformat_minor": 0,
  "metadata": {
    "colab": {
      "name": "proyectoViz.ipynb",
      "provenance": [],
      "collapsed_sections": []
    },
    "kernelspec": {
      "display_name": "Python 3",
      "name": "python3"
    },
    "language_info": {
      "name": "python"
    }
  },
  "cells": [
    {
      "cell_type": "code",
      "metadata": {
        "colab": {
          "base_uri": "https://localhost:8080/"
        },
        "id": "LhwYS-0G5IFr",
        "outputId": "6722ef07-6f9b-46a5-87b6-282f40540d19"
      },
      "source": [
        "!pip install -q jupyter-dash==0.3.0rc1 dash-bootstrap-components transformers\n",
        "!pip install xlrd\n",
        "!pip install -q dash\n",
        "!pip install -q dash_core_components\n",
        "!pip install -q dash_html_components\n",
        "!pip install -q dash_table"
      ],
      "execution_count": null,
      "outputs": [
        {
          "output_type": "stream",
          "text": [
            "Requirement already satisfied: xlrd in /usr/local/lib/python3.7/dist-packages (1.1.0)\n"
          ],
          "name": "stdout"
        }
      ]
    },
    {
      "cell_type": "code",
      "metadata": {
        "id": "-Stj30dS5UI_"
      },
      "source": [
        "import dash\n",
        "import dash_core_components as dcc\n",
        "import dash_html_components as html\n",
        "import dash_bootstrap_components as dbc\n",
        "from dash.dependencies import Input, Output, State\n",
        "import plotly.graph_objs as go\n",
        "import plotly.express as px\n",
        "import pandas as pd"
      ],
      "execution_count": null,
      "outputs": []
    },
    {
      "cell_type": "code",
      "metadata": {
        "colab": {
          "base_uri": "https://localhost:8080/"
        },
        "id": "xsXRNFa65Y7z",
        "outputId": "f2fb7ee2-33a7-4b69-d66c-62d4387fa780"
      },
      "source": [
        "df = pd.read_excel('PROD-DEM 2016-2021.xlsx',\n",
        "                       sheet_name='POTENCIA-30M',\n",
        "                       skiprows=range(5))\n",
        "                       ##,skipfooter=2)\n",
        "print ('Data read into a pandas dataframe!')"
      ],
      "execution_count": null,
      "outputs": [
        {
          "output_type": "stream",
          "text": [
            "Data read into a pandas dataframe!\n"
          ],
          "name": "stdout"
        }
      ]
    },
    {
      "cell_type": "code",
      "metadata": {
        "colab": {
          "base_uri": "https://localhost:8080/",
          "height": 204
        },
        "id": "lXy0QOdsWofX",
        "outputId": "51ab7a82-218c-4f0f-c4b8-09bdbf187c50"
      },
      "source": [
        "df.head()"
      ],
      "execution_count": null,
      "outputs": [
        {
          "output_type": "execute_result",
          "data": {
            "text/html": [
              "<div>\n",
              "<style scoped>\n",
              "    .dataframe tbody tr th:only-of-type {\n",
              "        vertical-align: middle;\n",
              "    }\n",
              "\n",
              "    .dataframe tbody tr th {\n",
              "        vertical-align: top;\n",
              "    }\n",
              "\n",
              "    .dataframe thead th {\n",
              "        text-align: right;\n",
              "    }\n",
              "</style>\n",
              "<table border=\"1\" class=\"dataframe\">\n",
              "  <thead>\n",
              "    <tr style=\"text-align: right;\">\n",
              "      <th></th>\n",
              "      <th>Fecha</th>\n",
              "      <th>Día</th>\n",
              "      <th>Hora</th>\n",
              "      <th>PRODUCCIÓN  \\n(Incluye las importaciones)</th>\n",
              "      <th>DEMANDA NACIONAL \\n(Incluye las pérdidas en transmisión)</th>\n",
              "    </tr>\n",
              "  </thead>\n",
              "  <tbody>\n",
              "    <tr>\n",
              "      <th>0</th>\n",
              "      <td>2016-01-01</td>\n",
              "      <td>viernes</td>\n",
              "      <td>00:00:00</td>\n",
              "      <td>2401.90</td>\n",
              "      <td>2396.90</td>\n",
              "    </tr>\n",
              "    <tr>\n",
              "      <th>1</th>\n",
              "      <td>2016-01-01</td>\n",
              "      <td>viernes</td>\n",
              "      <td>00:30:00</td>\n",
              "      <td>2396.13</td>\n",
              "      <td>2396.13</td>\n",
              "    </tr>\n",
              "    <tr>\n",
              "      <th>2</th>\n",
              "      <td>2016-01-01</td>\n",
              "      <td>viernes</td>\n",
              "      <td>01:00:00</td>\n",
              "      <td>2369.67</td>\n",
              "      <td>2358.84</td>\n",
              "    </tr>\n",
              "    <tr>\n",
              "      <th>3</th>\n",
              "      <td>2016-01-01</td>\n",
              "      <td>viernes</td>\n",
              "      <td>01:30:00</td>\n",
              "      <td>2307.70</td>\n",
              "      <td>2307.70</td>\n",
              "    </tr>\n",
              "    <tr>\n",
              "      <th>4</th>\n",
              "      <td>2016-01-01</td>\n",
              "      <td>viernes</td>\n",
              "      <td>02:00:00</td>\n",
              "      <td>2248.69</td>\n",
              "      <td>2231.39</td>\n",
              "    </tr>\n",
              "  </tbody>\n",
              "</table>\n",
              "</div>"
            ],
            "text/plain": [
              "       Fecha  ... DEMANDA NACIONAL \\n(Incluye las pérdidas en transmisión)\n",
              "0 2016-01-01  ...                                            2396.90      \n",
              "1 2016-01-01  ...                                            2396.13      \n",
              "2 2016-01-01  ...                                            2358.84      \n",
              "3 2016-01-01  ...                                            2307.70      \n",
              "4 2016-01-01  ...                                            2231.39      \n",
              "\n",
              "[5 rows x 5 columns]"
            ]
          },
          "metadata": {
            "tags": []
          },
          "execution_count": 47
        }
      ]
    },
    {
      "cell_type": "code",
      "metadata": {
        "colab": {
          "base_uri": "https://localhost:8080/",
          "height": 204
        },
        "id": "Pm1MW4bM7nZM",
        "outputId": "60c233bc-c4cf-4c1d-a546-641952d901db"
      },
      "source": [
        "df.tail()"
      ],
      "execution_count": null,
      "outputs": [
        {
          "output_type": "execute_result",
          "data": {
            "text/html": [
              "<div>\n",
              "<style scoped>\n",
              "    .dataframe tbody tr th:only-of-type {\n",
              "        vertical-align: middle;\n",
              "    }\n",
              "\n",
              "    .dataframe tbody tr th {\n",
              "        vertical-align: top;\n",
              "    }\n",
              "\n",
              "    .dataframe thead th {\n",
              "        text-align: right;\n",
              "    }\n",
              "</style>\n",
              "<table border=\"1\" class=\"dataframe\">\n",
              "  <thead>\n",
              "    <tr style=\"text-align: right;\">\n",
              "      <th></th>\n",
              "      <th>Fecha</th>\n",
              "      <th>Día</th>\n",
              "      <th>Hora</th>\n",
              "      <th>PRODUCCIÓN  \\n(Incluye las importaciones)</th>\n",
              "      <th>DEMANDA NACIONAL \\n(Incluye las pérdidas en transmisión)</th>\n",
              "    </tr>\n",
              "  </thead>\n",
              "  <tbody>\n",
              "    <tr>\n",
              "      <th>92395</th>\n",
              "      <td>2021-04-08</td>\n",
              "      <td>jueves</td>\n",
              "      <td>21:30:00</td>\n",
              "      <td>3921.02</td>\n",
              "      <td>3769.00</td>\n",
              "    </tr>\n",
              "    <tr>\n",
              "      <th>92396</th>\n",
              "      <td>2021-04-08</td>\n",
              "      <td>jueves</td>\n",
              "      <td>22:00:00</td>\n",
              "      <td>3828.13</td>\n",
              "      <td>3645.15</td>\n",
              "    </tr>\n",
              "    <tr>\n",
              "      <th>92397</th>\n",
              "      <td>2021-04-08</td>\n",
              "      <td>jueves</td>\n",
              "      <td>22:30:00</td>\n",
              "      <td>3784.04</td>\n",
              "      <td>3575.04</td>\n",
              "    </tr>\n",
              "    <tr>\n",
              "      <th>92398</th>\n",
              "      <td>2021-04-08</td>\n",
              "      <td>jueves</td>\n",
              "      <td>23:00:00</td>\n",
              "      <td>3660.44</td>\n",
              "      <td>3463.42</td>\n",
              "    </tr>\n",
              "    <tr>\n",
              "      <th>92399</th>\n",
              "      <td>2021-04-08</td>\n",
              "      <td>jueves</td>\n",
              "      <td>23:30:00</td>\n",
              "      <td>3571.61</td>\n",
              "      <td>3346.59</td>\n",
              "    </tr>\n",
              "  </tbody>\n",
              "</table>\n",
              "</div>"
            ],
            "text/plain": [
              "           Fecha  ... DEMANDA NACIONAL \\n(Incluye las pérdidas en transmisión)\n",
              "92395 2021-04-08  ...                                            3769.00      \n",
              "92396 2021-04-08  ...                                            3645.15      \n",
              "92397 2021-04-08  ...                                            3575.04      \n",
              "92398 2021-04-08  ...                                            3463.42      \n",
              "92399 2021-04-08  ...                                            3346.59      \n",
              "\n",
              "[5 rows x 5 columns]"
            ]
          },
          "metadata": {
            "tags": []
          },
          "execution_count": 48
        }
      ]
    },
    {
      "cell_type": "code",
      "metadata": {
        "colab": {
          "base_uri": "https://localhost:8080/"
        },
        "id": "Rz41YsxL8WVN",
        "outputId": "b2c84e02-8a6d-4826-a2d7-8ac16882dedf"
      },
      "source": [
        "df.info()"
      ],
      "execution_count": null,
      "outputs": [
        {
          "output_type": "stream",
          "text": [
            "<class 'pandas.core.frame.DataFrame'>\n",
            "RangeIndex: 92400 entries, 0 to 92399\n",
            "Data columns (total 5 columns):\n",
            " #   Column                                                   Non-Null Count  Dtype         \n",
            "---  ------                                                   --------------  -----         \n",
            " 0   Fecha                                                    92400 non-null  datetime64[ns]\n",
            " 1   Día                                                      92400 non-null  object        \n",
            " 2   Hora                                                     92400 non-null  object        \n",
            " 3   PRODUCCIÓN  \n",
            "(Incluye las importaciones)                 92400 non-null  float64       \n",
            " 4   DEMANDA NACIONAL \n",
            "(Incluye las pérdidas en transmisión)  92400 non-null  float64       \n",
            "dtypes: datetime64[ns](1), float64(2), object(2)\n",
            "memory usage: 3.5+ MB\n"
          ],
          "name": "stdout"
        }
      ]
    },
    {
      "cell_type": "code",
      "metadata": {
        "colab": {
          "base_uri": "https://localhost:8080/"
        },
        "id": "JCOlp_ns-Edr",
        "outputId": "a133c225-f66e-4e3e-be95-ba421f213a10"
      },
      "source": [
        "df.columns.values "
      ],
      "execution_count": null,
      "outputs": [
        {
          "output_type": "execute_result",
          "data": {
            "text/plain": [
              "array(['Fecha', 'Día', 'Hora',\n",
              "       'PRODUCCIÓN  \\n(Incluye las importaciones)',\n",
              "       'DEMANDA NACIONAL \\n(Incluye las pérdidas en transmisión)'],\n",
              "      dtype=object)"
            ]
          },
          "metadata": {
            "tags": []
          },
          "execution_count": 50
        }
      ]
    },
    {
      "cell_type": "code",
      "metadata": {
        "colab": {
          "base_uri": "https://localhost:8080/"
        },
        "id": "FuD4oeP8-U01",
        "outputId": "761f7c72-37d6-46d8-d395-8bc644d799a1"
      },
      "source": [
        "df.index.values"
      ],
      "execution_count": null,
      "outputs": [
        {
          "output_type": "execute_result",
          "data": {
            "text/plain": [
              "array([    0,     1,     2, ..., 92397, 92398, 92399])"
            ]
          },
          "metadata": {
            "tags": []
          },
          "execution_count": 51
        }
      ]
    },
    {
      "cell_type": "code",
      "metadata": {
        "id": "67YZmLojB22g"
      },
      "source": [
        "print(\"Comparacion entre años 2019-2020\")\n",
        "df1=df.groupby(['Fecha'])[['DEMANDA NACIONAL \\n(Incluye las pérdidas en transmisión)']].sum()\n",
        "print(df1)"
      ],
      "execution_count": null,
      "outputs": []
    },
    {
      "cell_type": "code",
      "metadata": {
        "id": "M0-cFmDEML0q"
      },
      "source": [
        ""
      ],
      "execution_count": null,
      "outputs": []
    },
    {
      "cell_type": "code",
      "metadata": {
        "colab": {
          "base_uri": "https://localhost:8080/"
        },
        "id": "LptLYTeIzTVv",
        "outputId": "19b4129e-56ba-48eb-961d-ddf5d816da19"
      },
      "source": [
        "%%sh\n",
        "# get ngrok\n",
        "curl -O https://bin.equinox.io/c/4VmDzA7iaHb/ngrok-stable-linux-amd64.zip\n",
        "unzip ngrok-stable-linux-amd64.zip"
      ],
      "execution_count": null,
      "outputs": [
        {
          "output_type": "stream",
          "text": [
            "Archive:  ngrok-stable-linux-amd64.zip\n"
          ],
          "name": "stdout"
        },
        {
          "output_type": "stream",
          "text": [
            "  % Total    % Received % Xferd  Average Speed   Time    Time     Time  Current\n",
            "                                 Dload  Upload   Total   Spent    Left  Speed\n",
            "\r  0     0    0     0    0     0      0      0 --:--:-- --:--:-- --:--:--     0\r100 13.1M  100 13.1M    0     0  22.9M      0 --:--:-- --:--:-- --:--:-- 22.9M\n",
            "replace ngrok? [y]es, [n]o, [A]ll, [N]one, [r]ename:  NULL\n",
            "(EOF or read error, treating as \"[N]one\" ...)\n"
          ],
          "name": "stderr"
        }
      ]
    },
    {
      "cell_type": "code",
      "metadata": {
        "colab": {
          "base_uri": "https://localhost:8080/"
        },
        "id": "jtno6W7u-4lz",
        "outputId": "a0e09202-063d-40ab-bf36-8ade15a5c2d3"
      },
      "source": [
        "%%writefile dash_app.py\n",
        "\n",
        "import dash\n",
        "import dash_core_components as dcc\n",
        "import dash_html_components as html\n",
        "\n",
        "external_stylesheets = ['https://codepen.io/chriddyp/pen/bWLwgP.css']\n",
        "\n",
        "app = dash.Dash(__name__)#, external_stylesheets=external_stylesheets)\n",
        "\n",
        "app.layout = html.Div(children=[\n",
        "    html.H1(children='Hello Dash'),\n",
        "\n",
        "    html.Div(children='''\n",
        "        Dash: A web application framework for Python.\n",
        "    '''),\n",
        "\n",
        "    dcc.Graph(\n",
        "        id='example-graph',\n",
        "        figure={\n",
        "            'data': [\n",
        "            ],\n",
        "            'layout': {\n",
        "                'title': 'Consumo Electrico'\n",
        "            }\n",
        "        }\n",
        "    )\n",
        "])\n",
        "\n",
        "if __name__ == '__main__':\n",
        "    app.run_server(debug=True)"
      ],
      "execution_count": null,
      "outputs": [
        {
          "output_type": "stream",
          "text": [
            "Writing dash_app.py\n"
          ],
          "name": "stdout"
        }
      ]
    },
    {
      "cell_type": "code",
      "metadata": {
        "id": "SviHwYxcVAv5"
      },
      "source": [
        "# launch ngrok\n",
        "get_ipython().system_raw('./ngrok http 8050 &')"
      ],
      "execution_count": null,
      "outputs": []
    },
    {
      "cell_type": "code",
      "metadata": {
        "id": "on5O38H1yrWL",
        "colab": {
          "base_uri": "https://localhost:8080/"
        },
        "outputId": "e1c6f5fc-7111-4dac-9f59-85d024959b5c"
      },
      "source": [
        "%%sh\n",
        "# get url with ngrok\n",
        "curl -s http://localhost:4040/api/tunnels | python3 -c \"import sys, json; print(json.load(sys.stdin)['tunnels'][0]['public_url'])\""
      ],
      "execution_count": null,
      "outputs": [
        {
          "output_type": "stream",
          "text": [
            "https://a154635076ec.ngrok.io\n"
          ],
          "name": "stdout"
        }
      ]
    },
    {
      "cell_type": "code",
      "metadata": {
        "id": "4RnKZnFxyv18",
        "colab": {
          "base_uri": "https://localhost:8080/"
        },
        "outputId": "19bb81ec-9466-46cd-d9a8-d1482930573e"
      },
      "source": [
        "!python dash_app.py"
      ],
      "execution_count": null,
      "outputs": [
        {
          "output_type": "stream",
          "text": [
            "Dash is running on http://127.0.0.1:8050/\n",
            "\n",
            " * Serving Flask app \"dash_app\" (lazy loading)\n",
            " * Environment: production\n",
            "\u001b[31m   WARNING: This is a development server. Do not use it in a production deployment.\u001b[0m\n",
            "\u001b[2m   Use a production WSGI server instead.\u001b[0m\n",
            " * Debug mode: on\n"
          ],
          "name": "stdout"
        }
      ]
    },
    {
      "cell_type": "code",
      "metadata": {
        "id": "rJCiRk7Vy2WH"
      },
      "source": [
        ""
      ],
      "execution_count": null,
      "outputs": []
    }
  ]
}